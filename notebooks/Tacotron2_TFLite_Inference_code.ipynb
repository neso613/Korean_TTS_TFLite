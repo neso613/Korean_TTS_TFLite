{
 "cells": [
  {
   "cell_type": "code",
   "execution_count": null,
   "id": "alive-species",
   "metadata": {},
   "outputs": [],
   "source": [
    "import tensorflow as tf\n",
    "from tensorflow_tts.inference import AutoProcessor\n",
    "from IPython.display import Audio"
   ]
  },
  {
   "cell_type": "code",
   "execution_count": null,
   "id": "standard-buddy",
   "metadata": {},
   "outputs": [],
   "source": [
    "processor = AutoProcessor.from_pretrained(pretrained_path=\"./kss_mapper.json\")\n",
    "tacotron2_tflite_model = 'models/tacotron2_korean-dynmRange.tflite'\n",
    "mb_melgan_model = 'mb_melgan_korean_saved_model'"
   ]
  },
  {
   "cell_type": "code",
   "execution_count": null,
   "id": "elementary-clark",
   "metadata": {},
   "outputs": [],
   "source": [
    "mb_melgan = tf.saved_model.load(mb_melgan_model)\n",
    "\n",
    "# Load the TFLite model and allocate tensors.\n",
    "interpreter = tf.lite.Interpreter(model_path=tacotron2_tflite_model)\n",
    "interpreter.allocate_tensors()\n",
    "\n",
    "# Get input and output tensors.\n",
    "input_details = interpreter.get_input_details()\n",
    "output_details = interpreter.get_output_details()"
   ]
  },
  {
   "cell_type": "code",
   "execution_count": null,
   "id": "organic-complexity",
   "metadata": {},
   "outputs": [],
   "source": [
    "input_text = \"신은 우리의 수학 문제에는 관심이 없다. 신은 다만 경험적으로 통합할 뿐이다.\"\n",
    "input_ids = processor.text_to_sequence(input_text)"
   ]
  },
  {
   "cell_type": "code",
   "execution_count": null,
   "id": "metallic-awareness",
   "metadata": {},
   "outputs": [],
   "source": [
    "interpreter.resize_tensor_input(input_details[0]['index'], [1, len(input_ids)])\n",
    "interpreter.allocate_tensors()\n",
    "input_data = (tf.expand_dims(tf.convert_to_tensor(input_ids, dtype=tf.int32), 0),\n",
    "          tf.convert_to_tensor([len(input_ids)], tf.int32),\n",
    "          tf.convert_to_tensor([0], dtype=tf.int32))\n",
    "\n",
    "for i, detail in enumerate(input_details):\n",
    "    input_shape = detail['shape']\n",
    "    interpreter.set_tensor(detail['index'], input_data[i])\n",
    "    \n",
    "interpreter.invoke()\n",
    "decoder_output, mel_output= (interpreter.get_tensor(output_details[0]['index']),interpreter.get_tensor(output_details[1]['index']))"
   ]
  },
  {
   "cell_type": "code",
   "execution_count": null,
   "id": "wireless-oasis",
   "metadata": {},
   "outputs": [],
   "source": [
    "audios = mb_melgan.inference(mel_outputs)\n",
    "Audio(data=audios[0, :, 0], rate=22050)"
   ]
  }
 ],
 "metadata": {
  "kernelspec": {
   "display_name": "Python 3",
   "language": "python",
   "name": "python3"
  },
  "language_info": {
   "codemirror_mode": {
    "name": "ipython",
    "version": 3
   },
   "file_extension": ".py",
   "mimetype": "text/x-python",
   "name": "python",
   "nbconvert_exporter": "python",
   "pygments_lexer": "ipython3",
   "version": "3.7.9"
  }
 },
 "nbformat": 4,
 "nbformat_minor": 5
}
